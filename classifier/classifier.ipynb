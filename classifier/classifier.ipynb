{
 "cells": [
  {
   "cell_type": "code",
   "execution_count": 3,
   "metadata": {},
   "outputs": [
    {
     "name": "stdout",
     "output_type": "stream",
     "text": [
      "(1000, 8000, 1) (1000, 25)\n"
     ]
    }
   ],
   "source": [
    "from keras.layers import Input, Conv1D, Flatten, Dropout, MaxPooling1D, Dense, BatchNormalization, Activation, UpSampling1D, Concatenate\n",
    "from sklearn.model_selection import train_test_split\n",
    "from keras.utils.np_utils import to_categorical   \n",
    "from keras.models import Model\n",
    "from keras import optimizers\n",
    "import matplotlib.pyplot as plt\n",
    "from pyts.image import GASF, GADF\n",
    "import numpy as np\n",
    "import h5py\n",
    "\n",
    "hf = h5py.File('/home/kalvik/Documents/neuralwave/data/encoded_data.h5', 'r')\n",
    "X_data = np.array(hf.get('X_data'))\n",
    "y_data = np.array(hf.get('y_data'))\n",
    "hf.close()\n",
    "\n",
    "X_data = np.rollaxis(X_data, 1, 3)\n",
    "X_data = np.reshape(X_data, (1000, 8000))\n",
    "y_data = np.reshape(y_data, (1000))\n",
    "y_data = to_categorical(y_data)\n",
    "X_data = np.expand_dims(X_data, axis=-1)\n",
    "print(X_data.shape, y_data.shape)\n",
    "\n",
    "X_train, X_test, y_train, y_test = train_test_split(X_data, y_data, test_size=0.2, random_state=42)"
   ]
  },
  {
   "cell_type": "code",
   "execution_count": null,
   "metadata": {},
   "outputs": [
    {
     "name": "stdout",
     "output_type": "stream",
     "text": [
      "Train on 800 samples, validate on 200 samples\n",
      "Epoch 1/30\n",
      "800/800 [==============================] - 59s 74ms/step - loss: 3.3622 - acc: 0.0500 - val_loss: 3.2237 - val_acc: 0.0850\n",
      "Epoch 2/30\n",
      "800/800 [==============================] - 54s 67ms/step - loss: 3.0473 - acc: 0.1437 - val_loss: 3.0140 - val_acc: 0.1500\n",
      "Epoch 3/30\n",
      "800/800 [==============================] - 60s 75ms/step - loss: 2.8967 - acc: 0.1888 - val_loss: 2.8932 - val_acc: 0.1850\n",
      "Epoch 4/30\n",
      "800/800 [==============================] - 58s 72ms/step - loss: 2.7963 - acc: 0.2500 - val_loss: 2.8285 - val_acc: 0.2200\n",
      "Epoch 5/30\n",
      "800/800 [==============================] - 62s 78ms/step - loss: 2.6948 - acc: 0.2512 - val_loss: 2.7337 - val_acc: 0.2450\n",
      "Epoch 6/30\n",
      "800/800 [==============================] - 62s 78ms/step - loss: 2.6345 - acc: 0.2800 - val_loss: 2.7120 - val_acc: 0.2200\n",
      "Epoch 7/30\n",
      "800/800 [==============================] - 60s 76ms/step - loss: 2.5564 - acc: 0.3000 - val_loss: 2.7177 - val_acc: 0.3150\n",
      "Epoch 8/30\n",
      "800/800 [==============================] - 62s 77ms/step - loss: 2.4829 - acc: 0.3375 - val_loss: 2.6014 - val_acc: 0.3500\n",
      "Epoch 9/30\n",
      "800/800 [==============================] - 61s 76ms/step - loss: 2.4403 - acc: 0.3550 - val_loss: 2.5757 - val_acc: 0.3300\n",
      "Epoch 10/30\n",
      "800/800 [==============================] - 63s 78ms/step - loss: 2.4175 - acc: 0.3300 - val_loss: 2.6450 - val_acc: 0.2650\n",
      "Epoch 11/30\n",
      "800/800 [==============================] - 52s 64ms/step - loss: 2.3829 - acc: 0.3763 - val_loss: 2.5262 - val_acc: 0.2900\n",
      "Epoch 12/30\n",
      "800/800 [==============================] - 55s 69ms/step - loss: 2.3142 - acc: 0.3775 - val_loss: 2.4854 - val_acc: 0.3650\n",
      "Epoch 13/30\n",
      "800/800 [==============================] - 53s 67ms/step - loss: 2.2812 - acc: 0.3812 - val_loss: 2.4655 - val_acc: 0.3050\n",
      "Epoch 14/30\n",
      "800/800 [==============================] - 59s 73ms/step - loss: 2.2531 - acc: 0.3987 - val_loss: 2.4658 - val_acc: 0.3050\n",
      "Epoch 15/30\n",
      "800/800 [==============================] - 62s 77ms/step - loss: 2.2217 - acc: 0.3725 - val_loss: 2.4357 - val_acc: 0.3400\n",
      "Epoch 16/30\n",
      "800/800 [==============================] - 57s 71ms/step - loss: 2.2151 - acc: 0.3525 - val_loss: 2.4259 - val_acc: 0.3200\n",
      "Epoch 17/30\n",
      "800/800 [==============================] - 54s 68ms/step - loss: 2.1748 - acc: 0.4037 - val_loss: 2.3664 - val_acc: 0.4200\n",
      "Epoch 18/30\n",
      "800/800 [==============================] - 53s 66ms/step - loss: 2.1523 - acc: 0.3938 - val_loss: 2.3451 - val_acc: 0.3500\n",
      "Epoch 19/30\n",
      "800/800 [==============================] - 51s 64ms/step - loss: 2.1209 - acc: 0.4213 - val_loss: 2.3885 - val_acc: 0.3700\n",
      "Epoch 20/30\n",
      "256/800 [========>.....................] - ETA: 38s - loss: 2.0560 - acc: 0.4375"
     ]
    }
   ],
   "source": [
    "inputs = Input(shape=(8000, 1))\n",
    "\n",
    "x = Conv1D(16, 17, strides=1, padding='same')(inputs)\n",
    "x = BatchNormalization(axis = -1)(x)\n",
    "x = Activation('selu')(x)\n",
    "x = MaxPooling1D(2)(x)\n",
    "\n",
    "x = Conv1D(16, 11, strides=1, padding='same')(x)\n",
    "x = BatchNormalization(axis = -1)(x)\n",
    "x = Activation('selu')(x)\n",
    "x = MaxPooling1D(2)(x)\n",
    "\n",
    "x = Conv1D(16, 11, strides=1, padding='same')(x)\n",
    "x = BatchNormalization(axis = -1)(x)\n",
    "x = Activation('selu')(x)\n",
    "x = MaxPooling1D(2)(x)\n",
    "\n",
    "x = Conv1D(16, 7, strides=1, padding='same')(x)\n",
    "x = BatchNormalization(axis = -1)(x)\n",
    "x = Activation('selu')(x)\n",
    "x = MaxPooling1D(2)(x)\n",
    "\n",
    "x = Conv1D(16, 7, strides=1, padding='same')(x)\n",
    "x = BatchNormalization(axis = -1)(x)\n",
    "x = Activation('selu')(x)\n",
    "x = MaxPooling1D(2)(x)\n",
    "\n",
    "x = Flatten()(x)\n",
    "x = Dense(25, activation='softmax')(x)\n",
    "\n",
    "model = Model(inputs=inputs, outputs=x)\n",
    "model.compile(loss='categorical_crossentropy', optimizer=optimizers.Adam(lr=1e-4), metrics=['acc'])\n",
    "model.fit(x=X_train, y=y_train, epochs=30, validation_data=(X_test, y_test), verbose=1)"
   ]
  },
  {
   "cell_type": "code",
   "execution_count": null,
   "metadata": {},
   "outputs": [],
   "source": []
  }
 ],
 "metadata": {
  "kernelspec": {
   "display_name": "Python 3",
   "language": "python",
   "name": "python3"
  },
  "language_info": {
   "codemirror_mode": {
    "name": "ipython",
    "version": 3
   },
   "file_extension": ".py",
   "mimetype": "text/x-python",
   "name": "python",
   "nbconvert_exporter": "python",
   "pygments_lexer": "ipython3",
   "version": "3.5.2"
  }
 },
 "nbformat": 4,
 "nbformat_minor": 2
}
