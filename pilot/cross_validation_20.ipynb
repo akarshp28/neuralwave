{
 "cells": [
  {
   "cell_type": "code",
   "execution_count": 1,
   "metadata": {},
   "outputs": [
    {
     "name": "stderr",
     "output_type": "stream",
     "text": [
      "/usr/local/lib/python3.5/dist-packages/h5py/__init__.py:36: FutureWarning: Conversion of the second argument of issubdtype from `float` to `np.floating` is deprecated. In future, it will be treated as `np.float64 == np.dtype(float).type`.\n",
      "  from ._conv import register_converters as _register_converters\n",
      "Using TensorFlow backend.\n"
     ]
    }
   ],
   "source": [
    "from keras.layers import Input, Conv1D, Flatten, Dropout, MaxPooling1D, Dense, BatchNormalization, Activation, UpSampling1D, Concatenate\n",
    "from sklearn.model_selection import StratifiedShuffleSplit\n",
    "from sklearn.preprocessing import StandardScaler\n",
    "from sklearn.decomposition import PCA\n",
    "import matplotlib.pyplot as plt\n",
    "from keras.models import Model\n",
    "from keras import optimizers\n",
    "from os.path import join\n",
    "from time import time\n",
    "import numpy as np\n",
    "import random\n",
    "import h5py\n",
    "import glob\n",
    "import os"
   ]
  },
  {
   "cell_type": "code",
   "execution_count": 2,
   "metadata": {},
   "outputs": [],
   "source": [
    "hf = h5py.File('wavelet_data_25.h5', 'r')\n",
    "X = np.array(hf.get('data'))\n",
    "y = np.array(hf.get('labels'))\n",
    "hf.close()"
   ]
  },
  {
   "cell_type": "code",
   "execution_count": 3,
   "metadata": {},
   "outputs": [],
   "source": [
    "labels = np.where( y == 7 )\n",
    "y = np.delete(y, labels, axis=0)\n",
    "X = np.delete(X, labels, axis=0)\n",
    "y[y > 7] -= 1"
   ]
  },
  {
   "cell_type": "code",
   "execution_count": 4,
   "metadata": {},
   "outputs": [
    {
     "name": "stdout",
     "output_type": "stream",
     "text": [
      "(959, 4320000) (959, 24)\n"
     ]
    }
   ],
   "source": [
    "X = np.reshape(X, (X.shape[0], np.prod(X.shape[1:])))\n",
    "y = np.eye(24)[y]\n",
    "print(X.shape, y.shape)"
   ]
  },
  {
   "cell_type": "code",
   "execution_count": 5,
   "metadata": {
    "scrolled": true
   },
   "outputs": [
    {
     "name": "stdout",
     "output_type": "stream",
     "text": [
      "WARNING:tensorflow:Variable *= will be deprecated. Use variable.assign_mul if you want assignment to the variable value or 'x = x * y' if you want a new python Tensor object.\n",
      "mean acc: 86.98% (+/- 0.00%), min: 86.98%, max: 86.98%, count: 1.00%\n"
     ]
    }
   ],
   "source": [
    "sss = StratifiedShuffleSplit(n_splits=1, test_size=0.2, random_state=0)\n",
    "\n",
    "history = []\n",
    "cvscores = []\n",
    "\n",
    "for train_index, test_index in sss.split(X, y):\n",
    "    X_train, X_test = X[train_index], X[test_index]\n",
    "    y_train, y_test = y[train_index], y[test_index]\n",
    "\n",
    "    scaler = StandardScaler()\n",
    "    scaler.fit(X_train)\n",
    "\n",
    "    X_train = scaler.transform(X_train)\n",
    "    X_test = scaler.transform(X_test)    \n",
    "    \n",
    "    pca = PCA(n_components=0.95)\n",
    "    pca.fit(X_train)\n",
    "\n",
    "    X_train = pca.transform(X_train)\n",
    "    X_test = pca.transform(X_test)    \n",
    "    \n",
    "    X_train = np.expand_dims(X_train, axis = -1)\n",
    "    X_test = np.expand_dims(X_test, axis = -1)\n",
    "\n",
    "    inputs = Input(shape=(X_train.shape[-2], 1))\n",
    "\n",
    "    x = Conv1D(16, 17, strides=1, padding='same')(inputs)\n",
    "    x = BatchNormalization(axis = -1)(x)\n",
    "    x = Activation('selu')(x)\n",
    "    x = MaxPooling1D(2)(x)\n",
    "\n",
    "    x = Conv1D(16, 11, strides=1, padding='same')(x)\n",
    "    x = BatchNormalization(axis = -1)(x)\n",
    "    x = Activation('selu')(x)\n",
    "    x = MaxPooling1D(2)(x)\n",
    "\n",
    "    x = Conv1D(16, 11, strides=1, padding='same')(x)\n",
    "    x = BatchNormalization(axis = -1)(x)\n",
    "    x = Activation('selu')(x)\n",
    "    x = MaxPooling1D(2)(x)\n",
    "\n",
    "    x = Conv1D(16, 7, strides=1, padding='same')(x)\n",
    "    x = BatchNormalization(axis = -1)(x)\n",
    "    x = Activation('selu')(x)\n",
    "    x = MaxPooling1D(2)(x)\n",
    "\n",
    "    x = Conv1D(16, 7, strides=1, padding='same')(x)\n",
    "    x = BatchNormalization(axis = -1)(x)\n",
    "    x = Activation('selu')(x)\n",
    "    x = MaxPooling1D(2)(x)\n",
    "\n",
    "    x = Flatten()(x)\n",
    "    x = Dense(24, activation='linear')(x)\n",
    "    x = Activation('softmax')(x)\n",
    "\n",
    "    model = Model(inputs=inputs, outputs=x)\n",
    "\n",
    "    model.compile(loss='categorical_crossentropy', optimizer=optimizers.Adam(lr=1e-2, decay=1e-5), metrics=['acc'])\n",
    "\n",
    "    history.append(model.fit(x=X_train, y=y_train, epochs=20, validation_data=(X_test, y_test), verbose=0))\n",
    "    \n",
    "    cvscores.append(history[-1].history['val_acc'][-1] * 100)\n",
    "    \n",
    "    print(\"mean acc: %.2f%% (+/- %.2f%%), min: %.2f%%, max: %.2f%%, count: %i\" % (np.mean(cvscores), np.std(cvscores), np.min(cvscores), np.max(cvscores), len(cvscores)))"
   ]
  },
  {
   "cell_type": "code",
   "execution_count": 19,
   "metadata": {},
   "outputs": [],
   "source": [
    "hf = h5py.File('wavelet_data_corrupt.h5', 'r')\n",
    "X_c = np.array(hf.get('data'))\n",
    "y_c = np.array(hf.get('labels'))\n",
    "hf.close()\n",
    "\n",
    "X_c = np.reshape(X_c, (X_c.shape[0], np.prod(X_c.shape[1:])))\n",
    "X_c = scaler.transform(X_c)\n",
    "X_c = pca.transform(X_c)\n",
    "X_c = np.expand_dims(X_c, axis = -1)"
   ]
  },
  {
   "cell_type": "code",
   "execution_count": 22,
   "metadata": {},
   "outputs": [],
   "source": [
    "hf = h5py.File('environment_data.h5', 'r')\n",
    "X_e = np.array(hf.get('data'))\n",
    "y_e = np.array(hf.get('labels'))\n",
    "hf.close()\n",
    "\n",
    "X_e = np.reshape(X_e, (X_e.shape[0], np.prod(X_e.shape[1:])))\n",
    "X_e = scaler.transform(X_e)\n",
    "X_e = pca.transform(X_e)\n",
    "X_e = np.expand_dims(X_e, axis = -1)"
   ]
  },
  {
   "cell_type": "code",
   "execution_count": 23,
   "metadata": {},
   "outputs": [
    {
     "name": "stdout",
     "output_type": "stream",
     "text": [
      "[0.21854565 0.2536702  0.2538617  0.26514244 0.27193734 0.2749421\n",
      " 0.28777477 0.3306155  0.35680595 0.38206664 0.41067147 0.42178515\n",
      " 0.4327927  0.4440774  0.45466504 0.51565224 0.52653223 0.5322107\n",
      " 0.54501724 0.54949194 0.5780926  0.6230369  0.6242679  0.6599329\n",
      " 0.67505664 0.72023463 0.7218896  0.72503185 0.78266    0.82011825\n",
      " 0.84132403 0.90320057 0.90492094 0.9380708  0.94952357 0.96109396\n",
      " 0.96908253 0.9728919  0.9731391  0.9743329  0.9790932  0.9791798\n",
      " 0.983085   0.98317105 0.98323613 0.985748   0.98698795 0.98710144\n",
      " 0.98908323 0.98960614 0.9935823  0.99494237 0.99723047 0.99736756\n",
      " 0.9981343  0.9988292  0.99891996 0.9990213  0.99939704 0.9995746\n",
      " 0.99979097 0.9998467  0.9998568  0.99986994 0.99987674 0.999925\n",
      " 0.99993145 0.9999447  0.9999896 ]\n"
     ]
    }
   ],
   "source": [
    "print(np.sort(np.amax(model.predict(X_e), axis=1)))"
   ]
  },
  {
   "cell_type": "code",
   "execution_count": 20,
   "metadata": {},
   "outputs": [
    {
     "name": "stdout",
     "output_type": "stream",
     "text": [
      "[0.29377568 0.3905207  0.44930288 0.4601511  0.47530574 0.5035693\n",
      " 0.5300932  0.5763319  0.5925576  0.6310839  0.6381617  0.7152465\n",
      " 0.73163825 0.73616767 0.76218015 0.78554475 0.78969485 0.8522823\n",
      " 0.86340714 0.8758991  0.88999444 0.8957597  0.89879495 0.90005076\n",
      " 0.9025091  0.93440187 0.945672   0.9488211  0.9557062  0.9605283\n",
      " 0.96210766 0.97465056 0.9751152  0.9751721  0.993053   0.99598736\n",
      " 0.99624133 0.9965957  0.9972364  0.9985459  0.9989453  0.99909246\n",
      " 0.9990946  0.9992217  0.9992293  0.99923503 0.9993254  0.9993887\n",
      " 0.99943143 0.9994423  0.9994524  0.9994771  0.9994856  0.9994906\n",
      " 0.9995246  0.9995377  0.9995554  0.9995586  0.9995994  0.99962497\n",
      " 0.99963295 0.9996439  0.99966764 0.99966884 0.99968874 0.99969006\n",
      " 0.99971396 0.9997191  0.99974865 0.99976486 0.99976844 0.9997813\n",
      " 0.9997868  0.99978787 0.99978787 0.99979013 0.9997913  0.99979585\n",
      " 0.99979776 0.99982375 0.9998344  0.9998485  0.99985373 0.99985373\n",
      " 0.99985456 0.9998568  0.9998586  0.9998692  0.99987185 0.9998821\n",
      " 0.9998826  0.9998902  0.99989426 0.9998982  0.9999018  0.99991405\n",
      " 0.99991465 0.9999162  0.9999231  0.9999291  0.9999329  0.9999337\n",
      " 0.9999342  0.99993634 0.9999386  0.99994123 0.9999416  0.9999416\n",
      " 0.9999436  0.9999449  0.99994564 0.999946   0.9999472  0.9999522\n",
      " 0.9999534  0.99995446 0.99995625 0.9999572  0.99995875 0.99996114\n",
      " 0.99996364 0.99997365 0.99998474]\n"
     ]
    }
   ],
   "source": [
    "print(np.sort(np.amax(model.predict(X_c), axis=1)))"
   ]
  },
  {
   "cell_type": "code",
   "execution_count": 16,
   "metadata": {},
   "outputs": [
    {
     "name": "stdout",
     "output_type": "stream",
     "text": [
      "[0.26010048 0.29181194 0.34775043 0.36208484 0.39577612 0.46337318\n",
      " 0.48196647 0.49883193 0.5000483  0.5139324  0.5408565  0.56609625\n",
      " 0.5879594  0.6114858  0.6129101  0.6452812  0.67696685 0.68123335\n",
      " 0.68131137 0.69983155 0.70597273 0.73281974 0.7350025  0.74915683\n",
      " 0.7595967  0.7653355  0.77652603 0.77960736 0.7848361  0.7919956\n",
      " 0.7928235  0.81166506 0.8116808  0.82016385 0.84569395 0.847277\n",
      " 0.85542244 0.8631906  0.8723153  0.8755788  0.8759258  0.87642473\n",
      " 0.87685704 0.8821573  0.8875847  0.8945708  0.8997404  0.90979475\n",
      " 0.91847515 0.92164713 0.92557824 0.9264355  0.9310173  0.93190604\n",
      " 0.9334066  0.93528074 0.9363084  0.9365047  0.9428726  0.9440619\n",
      " 0.9441     0.94559056 0.9575736  0.9590398  0.9619312  0.9674941\n",
      " 0.9691408  0.97192556 0.97195    0.976824   0.97852546 0.9789763\n",
      " 0.98022217 0.9808456  0.98132735 0.98133576 0.98428464 0.9844327\n",
      " 0.98517376 0.98552763 0.9855392  0.9857174  0.9892938  0.98930055\n",
      " 0.99034494 0.9905381  0.9920034  0.9921523  0.9924555  0.9927563\n",
      " 0.9928838  0.99296063 0.99356526 0.99436    0.9943897  0.994445\n",
      " 0.994846   0.9950088  0.9951826  0.9962853  0.99670583 0.9967141\n",
      " 0.9967608  0.99700826 0.99710506 0.99723285 0.9972351  0.9972741\n",
      " 0.997549   0.99765056 0.99784017 0.99795985 0.9980192  0.99803394\n",
      " 0.99803644 0.9984693  0.9986803  0.99873537 0.9987399  0.99879694\n",
      " 0.9989502  0.9989901  0.9990043  0.99904495 0.99906474 0.99911684\n",
      " 0.9991404  0.99915063 0.99916434 0.9991991  0.99921894 0.999358\n",
      " 0.999405   0.99942183 0.99943465 0.999445   0.99950254 0.9995079\n",
      " 0.9995246  0.9995258  0.99956423 0.99962723 0.9996364  0.9996389\n",
      " 0.9996393  0.9996408  0.99964356 0.9996841  0.99968827 0.99969256\n",
      " 0.99969673 0.9997042  0.9997217  0.99977607 0.9997944  0.999796\n",
      " 0.9998142  0.9998273  0.9998293  0.9998441  0.9998555  0.9998698\n",
      " 0.9998709  0.999881   0.99988866 0.9998934  0.9999002  0.9999064\n",
      " 0.9999076  0.9999156  0.9999168  0.99992216 0.9999304  0.999931\n",
      " 0.9999336  0.99994075 0.999941   0.99994123 0.9999504  0.9999572\n",
      " 0.9999608  0.99996173 0.99996614 0.9999677  0.99997056 0.9999722\n",
      " 0.9999726  0.99997663 0.9999777  0.9999813  0.99998355 0.9999912 ]\n"
     ]
    }
   ],
   "source": [
    "print(np.sort(np.amax(model.predict(X_test), axis=1)))"
   ]
  },
  {
   "cell_type": "code",
   "execution_count": null,
   "metadata": {},
   "outputs": [],
   "source": [
    "val_acc = []\n",
    "acc = []\n",
    "\n",
    "val_loss = []\n",
    "loss = []\n",
    "\n",
    "for i in history:\n",
    "    val_acc.append(i.history[\"val_acc\"])\n",
    "    acc.append(i.history[\"acc\"])\n",
    "    val_loss.append(i.history[\"val_loss\"])\n",
    "    loss.append(i.history[\"loss\"])\n",
    "    \n",
    "val_acc = np.array(val_acc)\n",
    "acc = np.array(acc)\n",
    "val_loss = np.array(val_loss)\n",
    "loss = np.array(loss)\n",
    "\n",
    "np.save(\"acc\", acc)\n",
    "np.save(\"val_acc\", val_acc)\n",
    "np.save(\"loss\", loss)\n",
    "np.save(\"val_loss\", val_loss)"
   ]
  }
 ],
 "metadata": {
  "kernelspec": {
   "display_name": "Python 3",
   "language": "python",
   "name": "python3"
  },
  "language_info": {
   "codemirror_mode": {
    "name": "ipython",
    "version": 3
   },
   "file_extension": ".py",
   "mimetype": "text/x-python",
   "name": "python",
   "nbconvert_exporter": "python",
   "pygments_lexer": "ipython3",
   "version": "3.5.2"
  }
 },
 "nbformat": 4,
 "nbformat_minor": 2
}
