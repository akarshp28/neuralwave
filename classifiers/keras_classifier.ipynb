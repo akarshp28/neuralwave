{
 "cells": [
  {
   "cell_type": "code",
   "execution_count": 15,
   "metadata": {},
   "outputs": [
    {
     "name": "stdout",
     "output_type": "stream",
     "text": [
      "(1000, 4000) (1000, 25)\n"
     ]
    }
   ],
   "source": [
    "from keras.layers import Input, Conv1D, Flatten, Dropout, MaxPooling1D, Dense, BatchNormalization, Activation, UpSampling1D, Concatenate\n",
    "from sklearn.model_selection import train_test_split\n",
    "from keras.utils.np_utils import to_categorical   \n",
    "from keras.models import Model\n",
    "from keras import optimizers\n",
    "import matplotlib.pyplot as plt\n",
    "from pyts.image import GASF, GADF\n",
    "import numpy as np\n",
    "import h5py\n",
    "\n",
    "hf = h5py.File('/home/kalvik/Documents/neuralwave/data/encoded_data.h5', 'r')\n",
    "X_data = np.array(hf.get('X_data'))\n",
    "y_data = np.array(hf.get('y_data'))\n",
    "hf.close()\n",
    "\n",
    "X_data = np.rollaxis(X_data, 1, 3)\n",
    "X_data = np.reshape(X_data, (X_data.shape[0]*X_data.shape[1], X_data.shape[2], X_data.shape[3]))\n",
    "X_data = X_data[:, 0]\n",
    "#print(X_data.shape)\n",
    "#X_data = np.reshape(X_data, (1000, 8000))\n",
    "y_data = np.reshape(y_data, (-1))\n",
    "y_data = to_categorical(y_data)\n",
    "#X_data = np.expand_dims(X_data, axis=-1)\n",
    "print(X_data.shape, y_data.shape)\n",
    "\n",
    "X_train, X_test, y_train, y_test = train_test_split(X_data, y_data, test_size=0.2, random_state=42)"
   ]
  },
  {
   "cell_type": "code",
   "execution_count": 12,
   "metadata": {},
   "outputs": [
    {
     "data": {
      "image/png": "[encoded data removed]",
      "text/plain": [
       "<Figure size 432x288 with 1 Axes>"
      ]
     },
     "metadata": {},
     "output_type": "display_data"
    }
   ],
   "source": [
    "from scipy import signal\n",
    "import matplotlib.pyplot as plt\n",
    "\n",
    "for i in range(1):\n",
    "    fs = 50e3\n",
    "    N = 1\n",
    "    f, t, Sxx = signal.spectrogram(X_train[i], fs)\n",
    "    plt.pcolormesh(t, f, Sxx)\n",
    "    plt.ylabel('Frequency [Hz]')\n",
    "    plt.xlabel('Time [sec]')\n",
    "    plt.show()"
   ]
  },
  {
   "cell_type": "code",
   "execution_count": null,
   "metadata": {},
   "outputs": [],
   "source": [
    "inputs = Input(shape=(8000, 1))\n",
    "\n",
    "x = Conv1D(16, 17, strides=1, padding='same')(inputs)\n",
    "x = BatchNormalization(axis = -1)(x)\n",
    "x = Activation('selu')(x)\n",
    "x = MaxPooling1D(2)(x)\n",
    "\n",
    "x = Conv1D(16, 11, strides=1, padding='same')(x)\n",
    "x = BatchNormalization(axis = -1)(x)\n",
    "x = Activation('selu')(x)\n",
    "x = MaxPooling1D(2)(x)\n",
    "\n",
    "x = Conv1D(16, 11, strides=1, padding='same')(x)\n",
    "x = BatchNormalization(axis = -1)(x)\n",
    "x = Activation('selu')(x)\n",
    "x = MaxPooling1D(2)(x)\n",
    "\n",
    "x = Conv1D(16, 7, strides=1, padding='same')(x)\n",
    "x = BatchNormalization(axis = -1)(x)\n",
    "x = Activation('selu')(x)\n",
    "x = MaxPooling1D(2)(x)\n",
    "\n",
    "x = Conv1D(16, 7, strides=1, padding='same')(x)\n",
    "x = BatchNormalization(axis = -1)(x)\n",
    "x = Activation('selu')(x)\n",
    "x = MaxPooling1D(2)(x)\n",
    "\n",
    "x = Flatten()(x)\n",
    "x = Dense(25, activation='softmax')(x)\n",
    "\n",
    "model = Model(inputs=inputs, outputs=x)\n",
    "model.compile(loss='categorical_crossentropy', optimizer=optimizers.Adam(lr=1e-4), metrics=['acc'])\n",
    "model.fit(x=X_train, y=y_train, epochs=30, validation_data=(X_test, y_test), verbose=1)"
   ]
  },
  {
   "cell_type": "code",
   "execution_count": null,
   "metadata": {},
   "outputs": [],
   "source": []
  }
 ],
 "metadata": {
  "kernelspec": {
   "display_name": "Python 3",
   "language": "python",
   "name": "python3"
  },
  "language_info": {
   "codemirror_mode": {
    "name": "ipython",
    "version": 3
   },
   "file_extension": ".py",
   "mimetype": "text/x-python",
   "name": "python",
   "nbconvert_exporter": "python",
   "pygments_lexer": "ipython3",
   "version": "3.5.2"
  }
 },
 "nbformat": 4,
 "nbformat_minor": 2
}
