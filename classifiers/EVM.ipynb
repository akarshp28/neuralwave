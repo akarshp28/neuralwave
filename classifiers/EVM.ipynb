{
 "cells": [
  {
   "cell_type": "code",
   "execution_count": null,
   "metadata": {},
   "outputs": [],
   "source": [
    "from sklearn.metrics.pairwise import pairwise_distances\n",
    "import tensorflow as tf\n",
    "import numpy as np\n",
    "import time\n",
    "import h5py\n",
    "import sys"
   ]
  },
  {
   "cell_type": "code",
   "execution_count": null,
   "metadata": {},
   "outputs": [],
   "source": [
    "def fit(x, iters=1000, eps=1e-6):\n",
    "    \"\"\"\n",
    "    Fits a 2-parameter Weibull distribution to the given data using maximum-likelihood estimation.\n",
    "    :param x: 1d-ndarray of samples from an (unknown) distribution. Each value must satisfy x > 0.\n",
    "    :param iters: Maximum number of iterations\n",
    "    :param eps: Stopping criterion. Fit is stopped ff the change within two iterations is smaller than eps.\n",
    "    :return: Tuple (Shape, Scale) which can be (NaN, NaN) if a fit is impossible.\n",
    "        Impossible fits may be due to 0-values in x.\n",
    "    \"\"\"\n",
    "    # fit k via MLE\n",
    "    ln_x = np.log(x+eps)\n",
    "    k = 1.\n",
    "    k_t_1 = k\n",
    "\n",
    "    for t in range(iters):\n",
    "        x_k = x ** k\n",
    "        x_k_ln_x = x_k * ln_x\n",
    "        ff = np.sum(x_k_ln_x)\n",
    "        fg = np.sum(x_k)\n",
    "        f = ff / fg - np.mean(ln_x) - (1. / k)\n",
    "\n",
    "        # Calculate second derivative d^2f/dk^2\n",
    "        ff_prime = np.sum(x_k_ln_x * ln_x)\n",
    "        fg_prime = ff\n",
    "        f_prime = (ff_prime/fg - (ff/fg * fg_prime/fg)) + (1. / (k*k))\n",
    "\n",
    "        # Newton-Raphson method k = k - f(k;x)/f'(k;x)\n",
    "        k -= f/f_prime\n",
    "\n",
    "        if np.isnan(f):\n",
    "            return np.nan, np.nan\n",
    "        if abs(k - k_t_1) < eps:\n",
    "            break\n",
    "\n",
    "        k_t_1 = k\n",
    "\n",
    "    lam = np.mean(x ** k) ** (1.0 / k)\n",
    "\n",
    "    return k, lam\n",
    "\n",
    "\n",
    "def psi_i_dist(dist, k_i, lambda_i):\n",
    "    \"\"\"\n",
    "    Gives the probability of sample inclusion\n",
    "    :param dist: Numpy vector of distances between samples\n",
    "    :param lambda_i: Scale of the Weibull fitting\n",
    "    :param k_i: Shape of the Weibull fitting\n",
    "    :return: PSI = Probability of Sample Inclusion. This is the probability that x' is included in the boundary estimated by x_i\n",
    "    \"\"\"\n",
    "    return np.exp(-(((np.abs(dist))/lambda_i)**k_i))\n",
    "\n",
    "def get_evm(data):\n",
    "    D = pairwise_distances(X_evm_train, data, metric=\"euclidean\", n_jobs=1)\n",
    "    preds = np.zeros_like(D)\n",
    "    for i in range(X_evm_train.shape[0]):\n",
    "        for j in range(data.shape[0]):\n",
    "            preds[i, j] = psi_i_dist(D[i, j], weibull_models[i][0], weibull_models[i][1])\n",
    "    return preds"
   ]
  },
  {
   "cell_type": "code",
   "execution_count": null,
   "metadata": {},
   "outputs": [],
   "source": [
    "tow = 50\n",
    "weibull_models = []\n",
    "for i in range(num_classes):\n",
    "    train_ind = np.squeeze(np.where(y_train_n == i))\n",
    "    D = pairwise_distances(X_evm_train[train_ind], X_evm_train, metric=\"euclidean\", n_jobs=1)\n",
    "    for j in range(D.shape[0]):\n",
    "        D_tmp = np.sort(D[j])\n",
    "        D_tmp = D_tmp[np.where(D_tmp>0)][:tow]\n",
    "        weibull_models.append(fit(D_tmp, iters=100, eps=1e-6))\n",
    "weibull_models = np.array(weibull_models)\n",
    "weibull_models.shape"
   ]
  },
  {
   "cell_type": "code",
   "execution_count": null,
   "metadata": {},
   "outputs": [],
   "source": [
    "evm = get_evm(X_evm_test)\n",
    "np.mean(np.equal(y_train_n[np.argmax(evm, axis=0)], y_test_n))*100"
   ]
  },
  {
   "cell_type": "code",
   "execution_count": null,
   "metadata": {},
   "outputs": [],
   "source": []
  }
 ],
 "metadata": {
  "kernelspec": {
   "display_name": "Python 3",
   "language": "python",
   "name": "python3"
  },
  "language_info": {
   "codemirror_mode": {
    "name": "ipython",
    "version": 3
   },
   "file_extension": ".py",
   "mimetype": "text/x-python",
   "name": "python",
   "nbconvert_exporter": "python",
   "pygments_lexer": "ipython3",
   "version": "3.5.2"
  }
 },
 "nbformat": 4,
 "nbformat_minor": 2
}
