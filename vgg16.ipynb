{
 "cells": [
  {
   "cell_type": "code",
   "execution_count": 3,
   "metadata": {},
   "outputs": [],
   "source": [
    "from tensorflow import keras\n",
    "from keras.initializers import TruncatedNormal\n",
    "from keras.engine.topology import Layer\n",
    "from keras.layers import Lambda\n",
    "from keras import backend as K\n",
    "from keras.models import Model\n",
    "from keras import optimizers\n",
    "from keras import layers\n",
    "import numpy as np\n",
    "import argparse\n",
    "import pickle\n",
    "import h5py\n",
    "import math\n",
    "import sys\n",
    "import os"
   ]
  },
  {
   "cell_type": "code",
   "execution_count": 4,
   "metadata": {},
   "outputs": [
    {
     "name": "stdout",
     "output_type": "stream",
     "text": [
      "(1107, 496, 270, 1)\n"
     ]
    }
   ],
   "source": [
    "data_set_path = \"/home/kalvik/Documents/neuralwave/data/CSI_30_l2_AMP_500_NO_PCA.h5\"\n",
    "\n",
    "hf = h5py.File(data_set_path, 'r')\n",
    "X_train = np.expand_dims(hf.get('X_train'), axis=-1)[:, 2:-2]\n",
    "X_test = np.expand_dims(hf.get('X_test'), axis=-1)[:, 2:-2]\n",
    "y_train = np.eye(30)[hf.get('y_train')]\n",
    "y_test = np.eye(30)[hf.get('y_test')]\n",
    "hf.close()\n",
    "\n",
    "print(X_train.shape)"
   ]
  },
  {
   "cell_type": "code",
   "execution_count": 3,
   "metadata": {},
   "outputs": [
    {
     "name": "stdout",
     "output_type": "stream",
     "text": [
      "_________________________________________________________________\n",
      "Layer (type)                 Output Shape              Param #   \n",
      "=================================================================\n",
      "input (InputLayer)           (None, 496, 270, 1)       0         \n",
      "_________________________________________________________________\n",
      "zero_padding2d_1 (ZeroPaddin (None, 496, 272, 1)       0         \n",
      "_________________________________________________________________\n",
      "block1_conv1 (Conv2D)        (None, 496, 272, 64)      640       \n",
      "_________________________________________________________________\n",
      "block1_bn1 (BatchNormalizati (None, 496, 272, 64)      256       \n",
      "_________________________________________________________________\n",
      "block1__relu1 (Activation)   (None, 496, 272, 64)      0         \n",
      "_________________________________________________________________\n",
      "block1_conv2 (Conv2D)        (None, 496, 272, 64)      36928     \n",
      "_________________________________________________________________\n",
      "block1_bn2 (BatchNormalizati (None, 496, 272, 64)      256       \n",
      "_________________________________________________________________\n",
      "block1__relu2 (Activation)   (None, 496, 272, 64)      0         \n",
      "_________________________________________________________________\n",
      "block1_pool (MaxPooling2D)   (None, 248, 136, 64)      0         \n",
      "_________________________________________________________________\n",
      "block2_conv1 (Conv2D)        (None, 248, 136, 128)     73856     \n",
      "_________________________________________________________________\n",
      "block2_bn1 (BatchNormalizati (None, 248, 136, 128)     512       \n",
      "_________________________________________________________________\n",
      "block2__relu1 (Activation)   (None, 248, 136, 128)     0         \n",
      "_________________________________________________________________\n",
      "block2_conv2 (Conv2D)        (None, 248, 136, 128)     147584    \n",
      "_________________________________________________________________\n",
      "block2_bn2 (BatchNormalizati (None, 248, 136, 128)     512       \n",
      "_________________________________________________________________\n",
      "block2__relu2 (Activation)   (None, 248, 136, 128)     0         \n",
      "_________________________________________________________________\n",
      "block2_pool (MaxPooling2D)   (None, 124, 68, 128)      0         \n",
      "_________________________________________________________________\n",
      "block3_conv1 (Conv2D)        (None, 124, 68, 256)      295168    \n",
      "_________________________________________________________________\n",
      "block3_bn1 (BatchNormalizati (None, 124, 68, 256)      1024      \n",
      "_________________________________________________________________\n",
      "block3__relu1 (Activation)   (None, 124, 68, 256)      0         \n",
      "_________________________________________________________________\n",
      "block3_conv2 (Conv2D)        (None, 124, 68, 256)      590080    \n",
      "_________________________________________________________________\n",
      "block3_bn2 (BatchNormalizati (None, 124, 68, 256)      1024      \n",
      "_________________________________________________________________\n",
      "block3__relu2 (Activation)   (None, 124, 68, 256)      0         \n",
      "_________________________________________________________________\n",
      "block3_conv3 (Conv2D)        (None, 124, 68, 256)      590080    \n",
      "_________________________________________________________________\n",
      "block3_bn3 (BatchNormalizati (None, 124, 68, 256)      1024      \n",
      "_________________________________________________________________\n",
      "block3__relu3 (Activation)   (None, 124, 68, 256)      0         \n",
      "_________________________________________________________________\n",
      "block3_pool (MaxPooling2D)   (None, 62, 34, 256)       0         \n",
      "_________________________________________________________________\n",
      "block4_conv1 (Conv2D)        (None, 62, 34, 512)       1180160   \n",
      "_________________________________________________________________\n",
      "block4_bn1 (BatchNormalizati (None, 62, 34, 512)       2048      \n",
      "_________________________________________________________________\n",
      "block4__relu1 (Activation)   (None, 62, 34, 512)       0         \n",
      "_________________________________________________________________\n",
      "block4_conv2 (Conv2D)        (None, 62, 34, 512)       2359808   \n",
      "_________________________________________________________________\n",
      "block4_bn2 (BatchNormalizati (None, 62, 34, 512)       2048      \n",
      "_________________________________________________________________\n",
      "block4__relu2 (Activation)   (None, 62, 34, 512)       0         \n",
      "_________________________________________________________________\n",
      "block4_conv3 (Conv2D)        (None, 62, 34, 512)       2359808   \n",
      "_________________________________________________________________\n",
      "block4_bn3 (BatchNormalizati (None, 62, 34, 512)       2048      \n",
      "_________________________________________________________________\n",
      "block4__relu3 (Activation)   (None, 62, 34, 512)       0         \n",
      "_________________________________________________________________\n",
      "block4_pool (MaxPooling2D)   (None, 31, 17, 512)       0         \n",
      "_________________________________________________________________\n",
      "global_average_pooling2d_1 ( (None, 512)               0         \n",
      "_________________________________________________________________\n",
      "predictions (Dense)          (None, 30)                15390     \n",
      "=================================================================\n",
      "Total params: 7,660,254\n",
      "Trainable params: 7,654,878\n",
      "Non-trainable params: 5,376\n",
      "_________________________________________________________________\n"
     ]
    }
   ],
   "source": [
    "blocks = [6, 12, 24, 16]\n",
    "\n",
    "inputs = layers.Input(shape=(X_train.shape[1:]), name='input')\n",
    "x = layers.ZeroPadding2D(padding=((0,0), (1,1)))(inputs)\n",
    "\n",
    "\n",
    "\n",
    "x = layers.GlobalAveragePooling2D()(x)\n",
    "x = layers.Dense(30, activation='softmax', name='predictions')(x)\n",
    "\n",
    "model = Model(inputs=inputs, outputs=x)\n",
    "model.summary()"
   ]
  },
  {
   "cell_type": "code",
   "execution_count": null,
   "metadata": {},
   "outputs": [],
   "source": [
    "lr = 0.001\n",
    "epochs = 100\n",
    "\n",
    "model.compile(loss='categorical_crossentropy', optimizer=optimizers.Adam(lr=lr), metrics=['acc'])\n",
    "model.fit(x=X_train, y=y_train, epochs=epochs, validation_data=(X_test, y_test), verbose=2)"
   ]
  },
  {
   "cell_type": "code",
   "execution_count": null,
   "metadata": {},
   "outputs": [],
   "source": []
  }
 ],
 "metadata": {
  "kernelspec": {
   "display_name": "Python 3",
   "language": "python",
   "name": "python3"
  },
  "language_info": {
   "codemirror_mode": {
    "name": "ipython",
    "version": 3
   },
   "file_extension": ".py",
   "mimetype": "text/x-python",
   "name": "python",
   "nbconvert_exporter": "python",
   "pygments_lexer": "ipython3",
   "version": "3.6.5"
  }
 },
 "nbformat": 4,
 "nbformat_minor": 2
}
