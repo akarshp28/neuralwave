{
 "cells": [
  {
   "cell_type": "code",
   "execution_count": 1,
   "metadata": {},
   "outputs": [],
   "source": [
    "import os\n",
    "import sys\n",
    "import shutil\n",
    "import numpy as np\n",
    "from joblib import Parallel, delayed\n",
    "from sklearn.preprocessing import StandardScaler\n",
    "from sklearn.model_selection import train_test_split"
   ]
  },
  {
   "cell_type": "code",
   "execution_count": 2,
   "metadata": {},
   "outputs": [],
   "source": [
    "def read_samples(dataset_path, endswith=\".csv\"):\n",
    "    datapaths, labels = list(), list()\n",
    "\n",
    "    label = 0\n",
    "\n",
    "    classes = sorted(os.walk(dataset_path).__next__()[1])\n",
    "    \n",
    "    # List each sub-directory (the classes)\n",
    "    for c in classes:\n",
    "        c_dir = os.path.join(dataset_path, c)\n",
    "        walk = os.walk(c_dir).__next__()\n",
    "        # Add each image to the training set\n",
    "        for sample in walk[2]:\n",
    "            # Only keeps csv samples\n",
    "            if sample.endswith(endswith):\n",
    "                datapaths.append(os.path.join(c_dir, sample))\n",
    "                labels.append(label)\n",
    "        label += 1\n",
    "\n",
    "    return datapaths, labels"
   ]
  },
  {
   "cell_type": "code",
   "execution_count": 3,
   "metadata": {},
   "outputs": [],
   "source": [
    "src_path = \"/home/kalvik/shared/CSI_DATA/preprocessed_level2/\"\n",
    "\n",
    "X, y = read_samples(src_path)\n",
    "X_train, X_test, _, _ = train_test_split(X, y, test_size=0.15, random_state=42)"
   ]
  },
  {
   "cell_type": "code",
   "execution_count": 4,
   "metadata": {},
   "outputs": [],
   "source": [
    "def read_array(data_path):\n",
    "    return np.loadtxt(open(data_path, \"rb\"), delimiter=\",\")"
   ]
  },
  {
   "cell_type": "code",
   "execution_count": 9,
   "metadata": {},
   "outputs": [
    {
     "name": "stdout",
     "output_type": "stream",
     "text": [
      "Calculating scalers for training data\n",
      "1096/1104"
     ]
    }
   ],
   "source": [
    "print(\"Calculating scalers for training data\")\n",
    "\n",
    "jobs = 16\n",
    "scalers = []\n",
    "for i in range(540):\n",
    "    scalers.append(StandardScaler())\n",
    "\n",
    "for i in range(0, len(X_train), jobs):\n",
    "    arrays = Parallel(n_jobs=jobs, verbose=0)(delayed(read_array)(addr) for addr in X_train[i:i+jobs-1])\n",
    "    arrays = np.array(arrays)\n",
    "    for j in range(540):\n",
    "        scalers[j].partial_fit(arrays[:, :, j])\n",
    "        \n",
    "    sys.stdout.write(\"\\r{}/{}\".format(len(X_train), i+jobs))\n",
    "    sys.stdout.flush()"
   ]
  },
  {
   "cell_type": "code",
   "execution_count": 18,
   "metadata": {},
   "outputs": [],
   "source": [
    "def scale_data(data_path):\n",
    "    array = np.loadtxt(open(data_path, \"rb\"), delimiter=\",\")\n",
    "    \n",
    "    for i in range(540):\n",
    "        array[:, i] = scalers[i].transform(np.expand_dims(array[:, i], axis=0))\n",
    "    \n",
    "    path, file = os.path.split(data_path)\n",
    "    _, class_name = os.path.split(path)\n",
    "    \n",
    "    if not os.path.exists(os.path.join(dest_path, class_name)):\n",
    "        os.makedirs(os.path.join(dest_path, class_name)) \n",
    "        \n",
    "    np.savetxt((os.path.join(os.path.join(dest_path, class_name), file)), array.astype(np.float32), delimiter=\",\")"
   ]
  },
  {
   "cell_type": "code",
   "execution_count": 19,
   "metadata": {},
   "outputs": [
    {
     "name": "stdout",
     "output_type": "stream",
     "text": [
      "\n",
      "\n",
      "Scaling training data\n",
      "1096/1104\n",
      "\n",
      "Scaling testing data\n",
      "194/208"
     ]
    }
   ],
   "source": [
    "print(\"\\n\\nScaling training data\")\n",
    "\n",
    "dest_path = dest_path = \"/home/kalvik/shared/CSI_DATA/preprocessed_final/train\"\n",
    "jobs = 16\n",
    "for i in range(0, len(X_train), jobs):\n",
    "    Parallel(n_jobs=jobs, verbose=0)(delayed(scale_data)(addr) for addr in X_train[i:i+jobs-1])\n",
    "    \n",
    "    sys.stdout.write(\"\\r{}/{}\".format(len(X_train), i+jobs))\n",
    "    sys.stdout.flush()\n",
    "    \n",
    "print(\"\\n\\nScaling testing data\")\n",
    "\n",
    "dest_path = dest_path = \"/home/kalvik/shared/CSI_DATA/preprocessed_final/test\"\n",
    "jobs = 16\n",
    "for i in range(0, len(X_test), jobs):\n",
    "    Parallel(n_jobs=jobs, verbose=0)(delayed(scale_data)(addr) for addr in X_test[i:i+jobs-1])\n",
    "    \n",
    "    sys.stdout.write(\"\\r{}/{}\".format(len(X_test), i+jobs))\n",
    "    sys.stdout.flush()"
   ]
  },
  {
   "cell_type": "code",
   "execution_count": null,
   "metadata": {},
   "outputs": [],
   "source": []
  }
 ],
 "metadata": {
  "kernelspec": {
   "display_name": "Python 3",
   "language": "python",
   "name": "python3"
  },
  "language_info": {
   "codemirror_mode": {
    "name": "ipython",
    "version": 3
   },
   "file_extension": ".py",
   "mimetype": "text/x-python",
   "name": "python",
   "nbconvert_exporter": "python",
   "pygments_lexer": "ipython3",
   "version": "3.5.2"
  }
 },
 "nbformat": 4,
 "nbformat_minor": 2
}
