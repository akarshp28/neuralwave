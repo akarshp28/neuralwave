{
 "cells": [
  {
   "cell_type": "code",
   "execution_count": 1,
   "metadata": {},
   "outputs": [
    {
     "name": "stderr",
     "output_type": "stream",
     "text": [
      "/usr/local/lib/python3.5/dist-packages/h5py/__init__.py:36: FutureWarning: Conversion of the second argument of issubdtype from `float` to `np.floating` is deprecated. In future, it will be treated as `np.float64 == np.dtype(float).type`.\n",
      "  from ._conv import register_converters as _register_converters\n"
     ]
    }
   ],
   "source": [
    "import os\n",
    "import sys\n",
    "import h5py\n",
    "import shutil\n",
    "import numpy as np\n",
    "from sklearn.decomposition import PCA"
   ]
  },
  {
   "cell_type": "code",
   "execution_count": 2,
   "metadata": {},
   "outputs": [],
   "source": [
    "def read_samples(dataset_path, endswith=\".csv\"):\n",
    "    datapaths, labels = list(), list()\n",
    "\n",
    "    label = 0\n",
    "\n",
    "    classes = sorted(os.walk(dataset_path).__next__()[1])\n",
    "    \n",
    "    # List each sub-directory (the classes)\n",
    "    for c in classes:\n",
    "        c_dir = os.path.join(dataset_path, c)\n",
    "        walk = os.walk(c_dir).__next__()\n",
    "        # Add each image to the training set\n",
    "        for sample in walk[2]:\n",
    "            # Only keeps csv samples\n",
    "            if sample.endswith(endswith):\n",
    "                datapaths.append(os.path.join(c_dir, sample))\n",
    "                labels.append(label)\n",
    "        label += 1\n",
    "\n",
    "    return datapaths, labels"
   ]
  },
  {
   "cell_type": "code",
   "execution_count": 3,
   "metadata": {},
   "outputs": [],
   "source": [
    "src_path =  \"/home/kalvik/shared/CSI_DATA/preprocessed_final/\"\n",
    "dest_path = \"/home/kalvik/shared/preprocessed.h5\"\n",
    "\n",
    "X_train, y_train = read_samples(src_path+\"train\")\n",
    "X_test, y_test = read_samples(src_path+\"test\")"
   ]
  },
  {
   "cell_type": "code",
   "execution_count": 4,
   "metadata": {},
   "outputs": [
    {
     "name": "stdout",
     "output_type": "stream",
     "text": [
      "Calculating scalers for training data\n",
      "100.00%"
     ]
    }
   ],
   "source": [
    "print(\"Calculating scalers for training data\")\n",
    "dataset = []\n",
    "for i in range(len(X_train)):\n",
    "    data = np.loadtxt(open(X_train[i], \"rb\"), delimiter=\",\")\n",
    "    data = data.flatten()\n",
    "    if (data.shape[0] == 4320000):\n",
    "        dataset.append([data, y_train[i]])\n",
    "        \n",
    "    sys.stdout.write(\"\\r%.2f%%\" % (((i+1)/len(X_train))*100))\n",
    "    sys.stdout.flush()"
   ]
  },
  {
   "cell_type": "code",
   "execution_count": 8,
   "metadata": {},
   "outputs": [],
   "source": [
    "pca = PCA(n_components = 0.95)\n",
    "X_train, y_train = zip(*dataset)\n",
    "pca.fit(X_train)\n",
    "X_train = pca.transform(X_train)"
   ]
  },
  {
   "cell_type": "code",
   "execution_count": 9,
   "metadata": {},
   "outputs": [
    {
     "name": "stdout",
     "output_type": "stream",
     "text": [
      "(849, 333) (849,)\n"
     ]
    }
   ],
   "source": [
    "print(np.array(X_train).shape, np.array(y_train).shape)"
   ]
  },
  {
   "cell_type": "code",
   "execution_count": 10,
   "metadata": {},
   "outputs": [],
   "source": [
    "del dataset"
   ]
  },
  {
   "cell_type": "code",
   "execution_count": 13,
   "metadata": {},
   "outputs": [],
   "source": [
    "def preprocess_data(file_paths, pca):    \n",
    "    dataset = []\n",
    "    for i in range(len(file_paths)):   \n",
    "        data = np.loadtxt(open(file_paths[i], \"rb\"), delimiter=\",\")\n",
    "        data = data.flatten()\n",
    "        data = np.expand_dims(data, axis=0)\n",
    "        data = pca.transform(data)\n",
    "        dataset.append(data)\n",
    "\n",
    "        sys.stdout.write(\"\\r%.2f%%\" % (((i+1)/len(file_paths))*100))\n",
    "        sys.stdout.flush()\n",
    "    return np.array(dataset)        "
   ]
  },
  {
   "cell_type": "code",
   "execution_count": 16,
   "metadata": {},
   "outputs": [
    {
     "name": "stdout",
     "output_type": "stream",
     "text": [
      "\n",
      "testing data\n",
      "100.00%"
     ]
    }
   ],
   "source": [
    "print(\"\\ntesting data\")\n",
    "X_test = preprocess_data(X_test, pca)"
   ]
  },
  {
   "cell_type": "code",
   "execution_count": 17,
   "metadata": {},
   "outputs": [
    {
     "name": "stdout",
     "output_type": "stream",
     "text": [
      "(150, 333) (849, 333) (150,) (849,)\n"
     ]
    }
   ],
   "source": [
    "X_test = np.squeeze(X_test)\n",
    "print(np.array(X_test).shape, np.array(X_train).shape, np.array(y_test).shape, np.array(y_train).shape)"
   ]
  },
  {
   "cell_type": "code",
   "execution_count": 18,
   "metadata": {},
   "outputs": [],
   "source": [
    "hf = h5py.File(dest_path, 'w')\n",
    "hf.create_dataset('X_train', data=np.array(X_train))\n",
    "hf.create_dataset('X_test', data=np.array(X_test))\n",
    "hf.create_dataset('y_train', data=np.array(y_train))\n",
    "hf.create_dataset('y_test', data=np.array(y_test))\n",
    "hf.close()"
   ]
  },
  {
   "cell_type": "code",
   "execution_count": null,
   "metadata": {},
   "outputs": [],
   "source": []
  }
 ],
 "metadata": {
  "kernelspec": {
   "display_name": "Python 3",
   "language": "python",
   "name": "python3"
  },
  "language_info": {
   "codemirror_mode": {
    "name": "ipython",
    "version": 3
   },
   "file_extension": ".py",
   "mimetype": "text/x-python",
   "name": "python",
   "nbconvert_exporter": "python",
   "pygments_lexer": "ipython3",
   "version": "3.5.2"
  }
 },
 "nbformat": 4,
 "nbformat_minor": 2
}
