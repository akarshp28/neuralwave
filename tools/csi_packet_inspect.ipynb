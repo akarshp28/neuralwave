{
 "cells": [
  {
   "cell_type": "code",
   "execution_count": 1,
   "metadata": {},
   "outputs": [],
   "source": [
    "import matplotlib.pyplot as plt\n",
    "from scipy.io import loadmat\n",
    "import numpy as np\n",
    "import time\n",
    "import sys\n",
    "import os\n",
    "import h5py\n",
    "from os import listdir\n",
    "from os.path import isfile, join\n",
    "from sklearn.decomposition import PCA\n",
    "from scipy import signal"
   ]
  },
  {
   "cell_type": "code",
   "execution_count": 2,
   "metadata": {},
   "outputs": [],
   "source": [
    "def get_csi(x):\n",
    "    x = np.squeeze(x[\"csi_trace\"])\n",
    "    data = []\n",
    "    for i in range(x.shape[0]):\n",
    "        array = {}\n",
    "        array[\"timestamp_low\"] = np.squeeze(x[i][0][0][0])\n",
    "        array[\"bfee_count\"] =  np.squeeze(x[i][0][0][1])\n",
    "        array[\"Nrx\"] = np.squeeze(x[i][0][0][2])\n",
    "        array[\"Ntx\"] = np.squeeze(x[i][0][0][3])\n",
    "        array[\"rssi_a\"] = np.squeeze(x[i][0][0][4])\n",
    "        array[\"rssi_b\"] = np.squeeze(x[i][0][0][5])\n",
    "        array[\"rssi_c\"] = np.squeeze(x[i][0][0][6])\n",
    "        array[\"noise\"] = np.squeeze(x[i][0][0][7])\n",
    "        array[\"agc\"] = np.squeeze(x[i][0][0][8])\n",
    "        array[\"perm\"] = np.squeeze(x[i][0][0][9])\n",
    "        array[\"rate\"] = np.squeeze(x[i][0][0][10])\n",
    "        array[\"csi\"] = np.squeeze(x[i][0][0][11])\n",
    "        \n",
    "        data.append(array)\n",
    "    return data\n",
    "\n",
    "def phase_correction(ph_raw):\n",
    "    m = np.arange(-28,29)\n",
    "    Tp = np.unwrap(ph_raw)\n",
    "    k_param = (Tp[29] - Tp[0])/(m[29] - m[0]);\n",
    "    b_param = np.sum(Tp)*(1/30)\n",
    "\n",
    "    correct_phase = []\n",
    "    for i in range(30):\n",
    "        correct_phase.append(Tp[i] - k_param*m[i] - b_param)\n",
    "    return correct_phase\n",
    "\n",
    "# 3 x 3 MIMO Matrix format\n",
    "# [h11 h12 h13\n",
    "# h21 h22 h23\n",
    "# h31 h32 h33]\n",
    "def apply_phcorrect(ph_raw):\n",
    "    mimo_mat = np.rollaxis(ph_raw, 2, 0)\n",
    "    mimo_mat = np.reshape(mimo_mat, (30, 9))\n",
    "\n",
    "    crct_ph = []\n",
    "    for col in range(9):\n",
    "        crct_ph.append(phase_correction(np.array(mimo_mat)[:, col]))\n",
    "\n",
    "    stack_crc_ph = np.vstack(crct_ph).T\n",
    "\n",
    "    restore_ph_mat = []\n",
    "    for i in range(30):\n",
    "        restore_ph_mat.append(stack_crc_ph[i, :].reshape((3,3)))\n",
    "    return np.array(restore_ph_mat).T\n",
    "\n",
    "def power_delay_profile(data, keep_bins=10):\n",
    "    data = np.concatenate([np.zeros_like(data[..., 0:1]), data, np.expand_dims(data[..., -1], axis=-1)], axis=-1)\n",
    "    pdf = np.fft.irfft(data, axis=-1)\n",
    "    pdf[..., keep_bins:] = 0\n",
    "    return np.fft.fft(pdf, n=(data.shape[-1]*2)+2, axis=-1)[..., 1:data.shape[-1]-1]\n",
    "\n",
    "def fill_gaps(csi_trace, technique):\n",
    "    amp_data = []\n",
    "    ph_data = []\n",
    "\n",
    "    for ind in range(len(csi_trace)):\n",
    "        csi_entry = csi_trace[ind]\n",
    "\n",
    "        scaled_csi = power_delay_profile(get_scaled_csi(csi_entry))\n",
    "        amp = np.absolute(scaled_csi)\n",
    "        ph = np.angle(scaled_csi)\n",
    "\n",
    "        amp_temp=[]\n",
    "        ph_temp=[]\n",
    "\n",
    "        if technique == 'fill':\n",
    "            if csi_trace[ind]['Ntx'] == 1:\n",
    "                ph = np.expand_dims(ph, axis=0)\n",
    "                amp = np.expand_dims(amp, axis=0)\n",
    "                for i in range(30):\n",
    "                    amp_temp.append(np.append(amp[:,:,i], np.zeros((2,3)) + np.nan).reshape((3,3)))\n",
    "                    ph_temp.append(np.append(ph[:,:,i], np.zeros((2,3)) + np.nan).reshape((3,3)))\n",
    "                amp_data.append(np.array(amp_temp).flatten())\n",
    "                ph_data.append(apply_phcorrect(ph_temp).flatten())\n",
    "\n",
    "            elif csi_trace[ind]['Ntx'] == 2:\n",
    "                for i in range(30):\n",
    "                    amp_temp.append(np.append(amp[:,:,i], np.zeros((1,3)) + np.nan).reshape((3,3)))\n",
    "                    ph_temp.append(np.append(ph[:,:,i], np.zeros((1,3)) + np.nan).reshape((3,3)))\n",
    "                amp_data.append(np.array(amp_temp).flatten())\n",
    "                ph_data.append(apply_phcorrect(ph_temp).flatten())\n",
    "\n",
    "            elif csi_trace[ind]['Ntx'] == 3:\n",
    "                amp_data.append(np.array(amp).T.flatten())\n",
    "                ph_data.append(apply_phcorrect(ph).T.flatten())\n",
    "\n",
    "        elif technique == 'mean':\n",
    "            if csi_trace[ind]['Ntx'] == 1:\n",
    "                ph = np.expand_dims(ph, axis=0)\n",
    "                amp = np.expand_dims(amp, axis=0)\n",
    "\n",
    "                mean_amp = np.mean(amp)\n",
    "                mean_ph = np.mean(ph)\n",
    "\n",
    "                for i in range(30):\n",
    "                    amp_temp.append(np.append(amp[:,:,i], np.zeros((2,3)) + mean_amp).reshape((3,3)))\n",
    "                    ph_temp.append(np.append(ph[:,:,i], np.zeros((2,3)) + mean_ph).reshape((3,3)))\n",
    "                ph_temp = np.array(ph_temp).T\n",
    "                amp_data.append(np.array(amp_temp).flatten())\n",
    "                ph_data.append(apply_phcorrect(ph_temp).flatten())\n",
    "\n",
    "            elif csi_trace[ind]['Ntx'] == 2:\n",
    "                mean_amp = np.mean(amp)\n",
    "                mean_ph = np.mean(ph)\n",
    "                for i in range(30):\n",
    "                    amp_temp.append(np.append(amp[:,:,i], np.zeros((1,3)) + mean_amp).reshape((3,3)))\n",
    "                    ph_temp.append(np.append(ph[:,:,i], np.zeros((1,3)) + mean_ph).reshape((3,3)))\n",
    "                ph_temp = np.array(ph_temp).T\n",
    "                amp_data.append(np.array(amp_temp).flatten())\n",
    "                ph_data.append(apply_phcorrect(ph_temp).flatten())\n",
    "\n",
    "            elif csi_trace[ind]['Ntx'] == 3:\n",
    "                amp_data.append(np.array(amp).T.flatten())\n",
    "                ph_data.append(apply_phcorrect(ph).T.flatten())\n",
    "\n",
    "    return np.hstack([amp_data, ph_data])\n",
    "\n",
    "def dbinv(x):\n",
    "    return np.power(10, (np.array(x)/10))\n",
    "\n",
    "def get_total_rss(csi_st):\n",
    "    rssi_mag = 0;\n",
    "    if csi_st['rssi_a'] != 0:\n",
    "        rssi_mag = rssi_mag + dbinv(csi_st['rssi_a'])\n",
    "\n",
    "    if csi_st['rssi_b'] != 0:\n",
    "        rssi_mag = rssi_mag + dbinv(csi_st['rssi_b'])\n",
    "\n",
    "    if csi_st['rssi_c'] != 0:\n",
    "        rssi_mag = rssi_mag + dbinv(csi_st['rssi_c'])\n",
    "\n",
    "    return 10*np.log10(rssi_mag) - 44 - csi_st['agc']\n",
    "\n",
    "def get_scaled_csi(csi_st):\n",
    "    csi = csi_st['csi']\n",
    "\n",
    "    csi_sq = np.multiply(csi, np.conj(csi))\n",
    "    csi_pwr = np.sum(csi_sq[:])\n",
    "    rssi_pwr = dbinv(get_total_rss(csi_st))\n",
    "\n",
    "    scale = rssi_pwr / (csi_pwr / 30)\n",
    "\n",
    "    if (csi_st['noise'] == -127):\n",
    "        noise_db = -92\n",
    "    else:\n",
    "        noise_db = csi_st['noise']\n",
    "\n",
    "    thermal_noise_pwr = dbinv(noise_db)\n",
    "    quant_error_pwr = scale * (csi_st['Nrx'] * csi_st['Ntx'])\n",
    "    total_noise_pwr = thermal_noise_pwr + quant_error_pwr;\n",
    "\n",
    "    ret = csi * np.sqrt(scale / total_noise_pwr);\n",
    "    if csi_st['Ntx'] == 2:\n",
    "        ret = ret * np.sqrt(2);\n",
    "    elif csi_st['Ntx'] == 3:\n",
    "        ret = ret * np.sqrt(dbinv(4.5));\n",
    "\n",
    "    return ret\n",
    "\n",
    "def read_samples(dataset_path, endswith=\".csv\"):\n",
    "    datapaths, labels = list(), list()\n",
    "    label = 0\n",
    "    classes = sorted(os.walk(dataset_path).__next__()[1])\n",
    "\n",
    "    # List each sub-directory (the classes)\n",
    "    for c in classes:\n",
    "        c_dir = os.path.join(dataset_path, c)\n",
    "        walk = os.walk(c_dir).__next__()\n",
    "        # Add each image to the training set\n",
    "        for sample in walk[2]:\n",
    "            # Only keeps csv samples\n",
    "            if sample.endswith(endswith):\n",
    "                datapaths.append(os.path.join(c_dir, sample))\n",
    "                labels.append(label)\n",
    "        label += 1\n",
    "\n",
    "    return datapaths, labels, classes\n",
    "\n",
    "def smooth(x,window_len):\n",
    "    s=np.r_[x[window_len-1:0:-1],x,x[-2:-window_len-1:-1]]\n",
    "    w=np.hanning(window_len)\n",
    "    y=np.convolve(w/w.sum(),s,mode='valid')\n",
    "    return y[(window_len//2):-(window_len//2)]\n",
    "\n",
    "def compute_data(file_path, sampling, cols1, cols2):\n",
    "    if (not os.path.isfile(file_path)):\n",
    "        raise ValueError(\"File dosn't exits\")\n",
    "\n",
    "    csi_trace = get_csi(loadmat(file_path))[2000:10000]\n",
    "    csi_trace = csi_trace[::sampling]\n",
    "    csi_trace = fill_gaps(csi_trace, technique='mean')[:, cols1:cols2]\n",
    "\n",
    "    return csi_trace.astype(np.float32)"
   ]
  },
  {
   "cell_type": "code",
   "execution_count": 60,
   "metadata": {},
   "outputs": [
    {
     "name": "stdout",
     "output_type": "stream",
     "text": [
      "60101\n"
     ]
    }
   ],
   "source": [
    "test1 = get_csi(loadmat(\"/home/kjakkala/neuralwave/data/kalvik_test/perp_pp1.mat\"))\n",
    "print(len(test1))"
   ]
  },
  {
   "cell_type": "code",
   "execution_count": 67,
   "metadata": {},
   "outputs": [
    {
     "name": "stdout",
     "output_type": "stream",
     "text": [
      "(12142, 540)\n"
     ]
    }
   ],
   "source": [
    "pca = PCA(n_components=5)\n",
    "pca_data = pca.fit_transform(test1)\n",
    "pca_data = pca.inverse_transform(pca_data)\n",
    "print(pca_data.shape)"
   ]
  },
  {
   "cell_type": "code",
   "execution_count": 54,
   "metadata": {},
   "outputs": [
    {
     "data": {
      "text/plain": [
       "[<matplotlib.lines.Line2D at 0x7fbbbe2bee10>]"
      ]
     },
     "execution_count": 54,
     "metadata": {},
     "output_type": "execute_result"
    },
    {
     "data": {
      "image/png": "[encoded data removed]",
      "text/plain": [
       "<Figure size 432x288 with 1 Axes>"
      ]
     },
     "metadata": {
      "needs_background": "light"
     },
     "output_type": "display_data"
    }
   ],
   "source": [
    "plt.plot(pca_data[:, 0])"
   ]
  },
  {
   "cell_type": "code",
   "execution_count": 11,
   "metadata": {},
   "outputs": [
    {
     "name": "stdout",
     "output_type": "stream",
     "text": [
      "(12142, 20)\n"
     ]
    }
   ],
   "source": [
    "print(pca_data.shape)"
   ]
  },
  {
   "cell_type": "code",
   "execution_count": 21,
   "metadata": {},
   "outputs": [
    {
     "name": "stdout",
     "output_type": "stream",
     "text": [
      "(129, 54)\n"
     ]
    }
   ],
   "source": [
    "s_tmp = np.zeros((129, 54))\n",
    "for i in range(20):\n",
    "    f,t,s = signal.spectrogram(pca_data[:, i], fs=2000) \n",
    "    s_tmp += s\n",
    "print(s.shape)"
   ]
  },
  {
   "cell_type": "code",
   "execution_count": 24,
   "metadata": {
    "scrolled": false
   },
   "outputs": [
    {
     "data": {
      "text/plain": [
       "<matplotlib.image.AxesImage at 0x7f48d89c7eb8>"
      ]
     },
     "execution_count": 24,
     "metadata": {},
     "output_type": "execute_result"
    },
    {
     "data": {
      "image/png": "[encoded data removed]",
      "text/plain": [
       "<Figure size 1440x1440 with 1 Axes>"
      ]
     },
     "metadata": {
      "needs_background": "light"
     },
     "output_type": "display_data"
    }
   ],
   "source": [
    "plt.figure(figsize=(20, 20))\n",
    "plt.imshow(s_tmp[:20])"
   ]
  },
  {
   "cell_type": "code",
   "execution_count": null,
   "metadata": {},
   "outputs": [],
   "source": [
    "data_file = '/home/kjakkala/neuralwave/data/CSI_preprocessed_48_pdf_15.h5'\n",
    "intruder_dir=\"/home/kjakkala/neuralwave/data/CSI_INTRUDER_48_pdf_15.h5\"\n",
    "num_classes = 48\n",
    "\n",
    "hf = h5py.File(data_file, 'r')\n",
    "X_train = np.expand_dims(hf.get('X_train'), axis=-1)[:, :, ::2]\n",
    "X_test = np.expand_dims(hf.get('X_test'), axis=-1)[:, :, ::2]\n",
    "y_train = np.eye(num_classes)[hf.get('y_train')]\n",
    "y_test = np.eye(num_classes)[hf.get('y_test')]\n",
    "y_train_n = np.array(hf.get('y_train'))\n",
    "y_test_n = np.array(hf.get('y_test'))\n",
    "train_classes = np.array(hf.get('labels')).astype(str)\n",
    "hf.close()\n",
    "\n",
    "hf = h5py.File(intruder_dir, 'r')\n",
    "X_data = np.expand_dims(hf.get('X_data'), axis=-1)[:, :, ::2]\n",
    "y_data = np.array(hf.get('y_data'))\n",
    "data_classes = np.array(hf.get('labels')).astype(str)\n",
    "hf.close() \n",
    "\n",
    "print(X_test.shape, data_classes)"
   ]
  },
  {
   "cell_type": "code",
   "execution_count": null,
   "metadata": {},
   "outputs": [],
   "source": [
    "def get_spectrogram(pca_data):\n",
    "    f,t,s = signal.spectrogram(pca_data[:, 0], \n",
    "                        fs=2000, \n",
    "                        window=signal.windows.gaussian(1024, (1024-1)/5), \n",
    "                        nperseg=1024, \n",
    "                        noverlap=986, \n",
    "                        nfft=1024, \n",
    "                        mode='complex') \n",
    "    x=np.zeros((80, t.shape[0]))\n",
    "    for k in range(1, pca_data.shape[-1]):\n",
    "        f,t,s = signal.spectrogram(pca_data[:, k], \n",
    "                            fs=2000, \n",
    "                            window=signal.windows.gaussian(1024, (1024-1)/5), \n",
    "                            nperseg=1024, \n",
    "                            noverlap=986, \n",
    "                            nfft=1024, \n",
    "                            mode='complex')         \n",
    "        s_magnitude=np.abs(s)\n",
    "        s_first80=s_magnitude[:80, :]\n",
    "        s_enery_level=np.sum(s_first80)\n",
    "        a_magnitude_norm=s_first80/s_enery_level\n",
    "        s_magnitude_mean=np.mean(a_magnitude_norm, axis=-1)\n",
    "        s_magnitude_denoise=(a_magnitude_norm.T-s_magnitude_mean).T\n",
    "        index=np.where(s_magnitude_denoise < 0)\n",
    "        s_magnitude_denoise[index]=0\n",
    "        x+=s_magnitude_denoise\n",
    "    return x\n",
    "\n",
    "def parallel(wavelength, b, a, c, v):\n",
    "    t_theory=np.linspace(-2, 9, 1000)\n",
    "    ds=((a-v*t_theory)*(-v)/np.sqrt(b**2+(a-v*t_theory)**2))+((c-v*t_theory)*(-v)/np.sqrt(b**2+(c-v*t_theory)**2))\n",
    "    f_theory=np.abs(ds/wavelength)\n",
    "    return t_theory, f_theory\n",
    "\n",
    "def perpendicular(wavelength, b, a, v):\n",
    "    t_theory=np.linspace(0, 4.5, 1000)\n",
    "    ds=(a-v*t_theory)*(-v)/np.sqrt(b**2+(a-v*t_theory)**2)\n",
    "    f_theory=np.abs(ds/wavelength)\n",
    "    return t_theory, f_theory"
   ]
  },
  {
   "cell_type": "code",
   "execution_count": null,
   "metadata": {
    "scrolled": true
   },
   "outputs": [],
   "source": [
    "data_path = \"/home/kjakkala/neuralwave/data/CSI_l1/prabhu\"\n",
    "files = [join(data_path, f) for f in listdir(data_path) if isfile(join(data_path, f))]\n",
    "\n",
    "for i in range(len(files)):\n",
    "    data = get_csi(loadmat(files[i]))\n",
    "    data = np.array(fill_gaps(data, \"mean\"))[:, :270]\n",
    "    pca = PCA(n_components=20)\n",
    "    pca_data = pca.fit_transform(data)\n",
    "    spect = get_spectrogram(pca_data)\n",
    "\n",
    "    plt.figure(figsize=(10, 10))\n",
    "    plt.imshow(spect)\n",
    "    plt.gca().invert_yaxis()\n",
    "    plt.show()"
   ]
  },
  {
   "cell_type": "code",
   "execution_count": null,
   "metadata": {},
   "outputs": [],
   "source": [
    "data = get_csi(loadmat(\"/home/kjakkala/neuralwave/data/CSI_DATA_INTRUDER_L1/prabhu_conf/prabhu2.mat\"))\n",
    "data = np.array(fill_gaps(data, \"mean\"))[:, :270]\n",
    "pca = PCA(n_components=20)\n",
    "pca_data = pca.fit_transform(data)\n",
    "spect = get_spectrogram(pca_data)\n",
    "\n",
    "plt.figure(figsize=(20, 10))\n",
    "plt.imshow(spect)\n",
    "plt.gca().invert_yaxis()\n",
    "plt.show()"
   ]
  },
  {
   "cell_type": "code",
   "execution_count": null,
   "metadata": {
    "scrolled": false
   },
   "outputs": [],
   "source": [
    "for i in range(150):\n",
    "    if np.argmax(y_test[199]) == np.argmax(y_test[i]):\n",
    "        plt.imshow(np.squeeze(X_test[i]))\n",
    "        plt.show()\n",
    "\n",
    "plt.imshow(np.squeeze(X_data[40]))\n",
    "plt.show()"
   ]
  },
  {
   "cell_type": "code",
   "execution_count": null,
   "metadata": {},
   "outputs": [],
   "source": [
    "plt.imshow(test2)"
   ]
  },
  {
   "cell_type": "code",
   "execution_count": null,
   "metadata": {},
   "outputs": [],
   "source": [
    "def get_csi(x):\n",
    "    data = []\n",
    "    for i in range(len(x['csi_trace'])):\n",
    "        array = {}\n",
    "        array[\"timestamp\"] = np.squeeze(x['csi_trace'][i][0][0][0][0]) \n",
    "        array[\"csi_len\"] = np.squeeze(x['csi_trace'][i][0][0][0][1]) \n",
    "        array[\"channel\"] = np.squeeze(x['csi_trace'][i][0][0][0][2]) \n",
    "        array[\"err_info\"] = np.squeeze(x['csi_trace'][i][0][0][0][3]) \n",
    "        array[\"noise_floor\"] = np.squeeze(x['csi_trace'][i][0][0][0][4]) \n",
    "        array[\"Rate\"] = np.squeeze(x['csi_trace'][i][0][0][0][5]) \n",
    "        array[\"bandWidth\"] = np.squeeze(x['csi_trace'][i][0][0][0][6]) \n",
    "        array[\"num_tones\"] = np.squeeze(x['csi_trace'][i][0][0][0][7]) \n",
    "        array[\"nr\"] = np.squeeze(x['csi_trace'][i][0][0][0][8]) \n",
    "        array[\"nc\"] = np.squeeze(x['csi_trace'][i][0][0][0][9]) \n",
    "        array[\"rssi\"] = np.squeeze(x['csi_trace'][i][0][0][0][10]) \n",
    "        array[\"rssi1\"] = np.squeeze(x['csi_trace'][i][0][0][0][11]) \n",
    "        array[\"rssi2\"] = np.squeeze(x['csi_trace'][i][0][0][0][12]) \n",
    "        array[\"rssi3\"] = np.squeeze(x['csi_trace'][i][0][0][0][13]) \n",
    "        array[\"payload_len\"] = np.squeeze(x['csi_trace'][i][0][0][0][14]) \n",
    "        array[\"csi\"] = np.squeeze(x['csi_trace'][i][0][0][0][15]) \n",
    "        data.append(array)\n",
    "    return data\n",
    "\n",
    "def fill_gaps(csi_trace):\n",
    "    amp_data = []\n",
    "    for ind in range(len(csi_trace)):\n",
    "        csi_entry = csi_trace[ind]['csi']\n",
    "        amp = np.absolute(csi_entry)\n",
    "        if amp.shape == (3, 3, 114):\n",
    "            amp_data.append(amp.flatten())\n",
    "    return amp_data\n",
    "\n",
    "def db(X):\n",
    "    X = np.square(np.abs(X))+1e-6\n",
    "    Y = (10*np.log10(X)+300)-300\n",
    "    return Y"
   ]
  },
  {
   "cell_type": "code",
   "execution_count": null,
   "metadata": {},
   "outputs": [],
   "source": [
    "data = get_csi(loadmat(\"/home/kjakkala/neuralwave/data/CSI_l1/ting/ting4.mat\"))\n",
    "data = np.array(fill_gaps(data, \"mean\"))[:, :270]\n",
    "pca = PCA(n_components=20)\n",
    "pca_data = pca.fit_transform(data)\n",
    "np.savetxt(\"/home/kjakkala/neuralwave/data/random_data_l1/ting_li/ting4.csv\", pca_data, delimiter=\",\")"
   ]
  },
  {
   "cell_type": "code",
   "execution_count": null,
   "metadata": {},
   "outputs": [],
   "source": [
    "data = get_csi(loadmat(\"/home/kalvik/Documents/test_157_mat.mat\"))\n",
    "data = np.array(fill_gaps(data))\n",
    "fig, axs = plt.subplots(nrows=3, ncols=3, figsize=(25, 15))\n",
    "for i in range(3):\n",
    "    for j in range(3):\n",
    "        for k in range(0, 1997):\n",
    "            axs[j, i].set_xlabel('Subcarrier Index')\n",
    "            axs[j, i].set_ylabel('Amp (dB)')\n",
    "            axs[j, i].set_title('Rx:{}  Tx:{}'.format(i+1, j+1))\n",
    "            axs[j, i].plot(db(data[k, i, j, :]), 'C0', alpha=0.1,  linewidth=1)\n",
    "plt.savefig(\"../../channel_157.png\", bbox_inches='tight', dpi=150)"
   ]
  }
 ],
 "metadata": {
  "kernelspec": {
   "display_name": "Python 3",
   "language": "python",
   "name": "python3"
  },
  "language_info": {
   "codemirror_mode": {
    "name": "ipython",
    "version": 3
   },
   "file_extension": ".py",
   "mimetype": "text/x-python",
   "name": "python",
   "nbconvert_exporter": "python",
   "pygments_lexer": "ipython3",
   "version": "3.5.2"
  }
 },
 "nbformat": 4,
 "nbformat_minor": 2
}
